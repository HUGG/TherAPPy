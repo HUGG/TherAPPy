{
 "cells": [
  {
   "cell_type": "markdown",
   "id": "cc9d1b31-35ef-4ebc-8726-0a2ca49ba699",
   "metadata": {},
   "source": [
    "## Notebook to test TherAPPy\n",
    "\n",
    "The objective of this notebook is to show the functionality of TherAPPy\n",
    "\n",
    "Note that the code is being developed and the structure and fucntionality of the code will change and improve. Get in touch with the developers if you feel that anything could be improved in particular. \n",
    "\n",
    "The code currently includes:\n",
    "\n",
    "- the Dodson (1973) cooling age model for a range of thermochronometers\n",
    "- The Ketcham (1999, 2007) apatite fission track annealing model\n",
    "\n"
   ]
  },
  {
   "cell_type": "code",
   "execution_count": 1,
   "id": "9807d3ff-dc3d-445f-b6f6-f92c55e9f3f7",
   "metadata": {},
   "outputs": [
    {
     "ename": "ModuleNotFoundError",
     "evalue": "No module named 'lib.therappy_lib'",
     "output_type": "error",
     "traceback": [
      "\u001b[0;31m---------------------------------------------------------------------------\u001b[0m",
      "\u001b[0;31mModuleNotFoundError\u001b[0m                       Traceback (most recent call last)",
      "Cell \u001b[0;32mIn [1], line 8\u001b[0m\n\u001b[1;32m      5\u001b[0m \u001b[38;5;28;01mimport\u001b[39;00m \u001b[38;5;21;01mmatplotlib\u001b[39;00m\u001b[38;5;21;01m.\u001b[39;00m\u001b[38;5;21;01mcolors\u001b[39;00m\n\u001b[1;32m      6\u001b[0m \u001b[38;5;28;01mimport\u001b[39;00m \u001b[38;5;21;01mastropy\u001b[39;00m\u001b[38;5;21;01m.\u001b[39;00m\u001b[38;5;21;01munits\u001b[39;00m \u001b[38;5;28;01mas\u001b[39;00m \u001b[38;5;21;01mu\u001b[39;00m\n\u001b[0;32m----> 8\u001b[0m \u001b[38;5;28;01mimport\u001b[39;00m \u001b[38;5;21;01mlib\u001b[39;00m\u001b[38;5;21;01m.\u001b[39;00m\u001b[38;5;21;01mtherappy_lib\u001b[39;00m \u001b[38;5;28;01mas\u001b[39;00m \u001b[38;5;21;01mtrp\u001b[39;00m\n",
      "\u001b[0;31mModuleNotFoundError\u001b[0m: No module named 'lib.therappy_lib'"
     ]
    }
   ],
   "source": [
    "from importlib import reload\n",
    "import itertools\n",
    "import numpy as np\n",
    "import matplotlib.pyplot as pl\n",
    "import matplotlib.colors\n",
    "import astropy.units as u\n",
    "\n",
    "import therappy.therappy_lib as trp"
   ]
  },
  {
   "cell_type": "markdown",
   "id": "7713e84e-a8e5-41f8-b2fb-952ae9dc3be8",
   "metadata": {},
   "source": [
    "## Set up a temperature history\n",
    "\n",
    "The temperature history is stored in a python dictionary that contains two numpy arrays, one for time bp and one for temperature.\n",
    "Note that the unit for time used in TherAPPy is years bp, and the unit for temperature is degrees C. TherAPPy uses the [astropy units](https://docs.astropy.org/en/stable/units/index.html) module to assign physical units to variables. "
   ]
  },
  {
   "cell_type": "code",
   "execution_count": null,
   "id": "f9c79c5b-2547-4d1b-a89b-fdeb87e20eb2",
   "metadata": {},
   "outputs": [],
   "source": [
    "time = np.arange(0, 100.0, 1.0)[::-1] * 1e6 * u.year\n",
    "temperature =  np.linspace(300, 10, 100)  * u.deg_C\n",
    "tT = {\"time\": time, \"temperature\": temperature}\n",
    "\n",
    "print(f\"Temperature history:\\n{tT}\")"
   ]
  },
  {
   "cell_type": "markdown",
   "id": "067bf37e-cf4d-4bb5-adc1-765990367572",
   "metadata": {},
   "source": [
    "## Model closure ages using the Dodson model\n",
    "\n",
    "We first model the closure ages following Dodson (1973) for the apatite and zircon (U-Th)/He and fission track thermochronometers, using parameters from Reiners and Brandon (2006, https://doi.org/10.1146/annurev.earth.34.031405.125202)"
   ]
  },
  {
   "cell_type": "code",
   "execution_count": null,
   "id": "2df3fb37-0403-4216-b436-170b031821c7",
   "metadata": {},
   "outputs": [],
   "source": [
    "minerals = [\"apatite\", \"apatite\", \"zircon\", \"zircon\"]\n",
    "thermochronometers = [\"He\", \"FT\", \"He\", \"FT\"]\n",
    "\n",
    "grains = []\n",
    "ages = []\n",
    "\n",
    "# go through the thermochron systems\n",
    "for mineral, thermochronometer in zip(minerals, thermochronometers):\n",
    "    \n",
    "    # create a new thermochron object for each mineral & thermochronometer combination\n",
    "    mygrain = trp.thermochron_object(mineral) # geometry (size, shape), chemistry (eU / U / Th, Sm), zonation?\n",
    "    \n",
    "    # todo\n",
    "    #mysample = sample(grain1, grain2)\n",
    "    \n",
    "    # model the thermochron age\n",
    "    model_results = mygrain.model_thermochron(tT, thermochronometer=thermochronometer, model=\"Dodson\") #dpar, \n",
    "    \n",
    "    # store the ages\n",
    "    ages.append(model_results[\"modelled_thermochron_age_bp\"])\n",
    "    \n",
    "    # store the grain in a list\n",
    "    grains.append(mygrain)\n",
    "    \n",
    "    print(f\"modelled thermochron age for the system {mygrain.mineral} {thermochronometer} using the {mygrain.model} model: \"\n",
    "          f\"{model_results['modelled_thermochron_age_bp']:0.2e}\")"
   ]
  },
  {
   "cell_type": "markdown",
   "id": "55ab5a93-9a29-4d9f-a9e2-67d8833d649b",
   "metadata": {},
   "source": [
    "## Model AFT using the Ketcham (2007) model\n",
    "\n",
    "Next we model the apatite fission track age using a implementation of the fission track annealing model described in Ketcham et al. (1999) and Ketcham (2007). The annealing resistance can be specified using the chlorine weight fraction or the Dpar parameter. We assing a chlorine weight fraction of 0.0 below."
   ]
  },
  {
   "cell_type": "code",
   "execution_count": null,
   "id": "4f1cbc9e-1dab-42e7-a300-541295e7386c",
   "metadata": {},
   "outputs": [],
   "source": [
    "# assign fission track annealing parameters\n",
    "thermochron_parameters = {\"kinetic_parameter\": \"Clwt\", \"Clwt\": 0.0}\n",
    "\n",
    "# set up a new grain\n",
    "FTgrain = trp.thermochron_object(\"apatite\")\n",
    "\n",
    "# model the apatite fission track age\n",
    "model_results = FTgrain.model_thermochron(tT, thermochronometer=\"FT\", model=\"Ketcham2007\", thermochron_parameters=thermochron_parameters)\n",
    "\n",
    "modelled_AFT_age = model_results[\"AFT_age\"]\n",
    "\n",
    "print(f\"modelled apatite fission track age: {modelled_AFT_age :0.2f}\")"
   ]
  },
  {
   "cell_type": "markdown",
   "id": "a8d7a0fd-c7ce-403a-a8ab-4c682af5b0c7",
   "metadata": {},
   "source": [
    "## Show T history and modelled ages in a figure\n",
    "\n",
    "Lets compare the closure ages with the modelled apatite fission track age:"
   ]
  },
  {
   "cell_type": "code",
   "execution_count": null,
   "id": "79989c9a-26e3-4638-97d0-81a6266d8095",
   "metadata": {},
   "outputs": [],
   "source": [
    "colors = list(matplotlib.colors.TABLEAU_COLORS)\n",
    "\n",
    "fig, ax = pl.subplots(1, 1, figsize=(6, 4))\n",
    "ax.plot(tT[\"time\"].value / 1e6, tT[\"temperature\"], label=\"T history\")\n",
    "ax.set_ylim(tT[\"temperature\"].value.max(), 0)\n",
    "ax.set_xlabel(\"Time (My bp)\")\n",
    "Tu = tT[\"temperature\"].unit\n",
    "ax.set_ylabel(f\"Temperature ({Tu})\")\n",
    "ax.set_title(\"Modelled temperature history\\nand thermochronometer ages\")\n",
    "\n",
    "for i, grain, age in zip(itertools.count(), grains, ages):\n",
    "    mineral = grain.mineral\n",
    "    thermochronometer = grain.thermochronometer\n",
    "    ax.axvline(age.value / 1e6, c=colors[i+1], ls=\":\", lw=2.0, label=f\"{mineral} {thermochronometer} age,\\n Dodson (1973)\")\n",
    "\n",
    "ax.axvline(modelled_AFT_age.value / 1e6, c=colors[i+2], ls=\"--\", lw=1.5, label=\"AFT age,\\n Ketcham (2007)\")\n",
    "\n",
    "ax.legend(bbox_to_anchor=(1, 0.75))\n",
    "\n",
    "ax.set_xlim(tT[\"time\"].value.max() / 1e6, 0)\n",
    "\n",
    "fig.tight_layout()\n",
    "\n",
    "fig.savefig(\"fig/TherAPPy_example.png\")"
   ]
  },
  {
   "cell_type": "markdown",
   "id": "9d47cd05-2714-483f-8ce4-6d88ce96e2bf",
   "metadata": {},
   "source": [
    "## Show change in AFT ages over time"
   ]
  },
  {
   "cell_type": "code",
   "execution_count": null,
   "id": "e94cb9c3-5741-4874-a8ec-0f843b2bea2f",
   "metadata": {},
   "outputs": [],
   "source": [
    "age_evolution = model_results[\"AFT_ages\"]\n",
    "\n",
    "fig, ax = pl.subplots(1, 1, figsize=(6, 4))\n",
    "\n",
    "x, y = tT[\"time\"].value / 1e6, tT[\"temperature\"].value\n",
    "xm = x[int(len(x) / 2)]\n",
    "ym = y[int(len(y) / 2)]\n",
    "ax.plot(x, y, color=colors[0], label=\"T history\")\n",
    "ax.text(xm, ym, \"temperature\", color=colors[0], va=\"center\", rotation=35)\n",
    "\n",
    "axr = ax.twinx()\n",
    "\n",
    "x = time[1:].value / 1e6\n",
    "y = age_evolution.value / 1e6\n",
    "xm = x[int(len(x) / 2)]\n",
    "ym = y[int(len(y) / 2)]\n",
    "axr.plot(x, y, color=colors[1])\n",
    "axr.text(xm, ym, \"AFT age\", color=colors[1], va=\"bottom\")\n",
    "\n",
    "ax.set_xlabel(\"Time (My bp)\")\n",
    "ax.set_ylabel(f\"Temperature ({Tu})\")\n",
    "axr.set_ylabel(\"AFT age (My bp)\")\n",
    "\n",
    "ax.set_xlim(tT[\"time\"].value.max() / 1e6, 0)\n",
    "ax.set_ylim(tT[\"temperature\"].value.max(), 0)\n",
    "\n",
    "ax.set_title(\"Modelled temperature history\\nand AFT age over time\")"
   ]
  },
  {
   "cell_type": "code",
   "execution_count": null,
   "id": "dab95997-b6f0-4bb7-80b1-0c12e1d275c6",
   "metadata": {},
   "outputs": [],
   "source": []
  }
 ],
 "metadata": {
  "kernelspec": {
   "display_name": "Python 3 (ipykernel)",
   "language": "python",
   "name": "python3"
  },
  "language_info": {
   "codemirror_mode": {
    "name": "ipython",
    "version": 3
   },
   "file_extension": ".py",
   "mimetype": "text/x-python",
   "name": "python",
   "nbconvert_exporter": "python",
   "pygments_lexer": "ipython3",
   "version": "3.11.0"
  }
 },
 "nbformat": 4,
 "nbformat_minor": 5
}
